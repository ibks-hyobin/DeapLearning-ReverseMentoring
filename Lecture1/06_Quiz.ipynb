{
 "cells": [
  {
   "cell_type": "code",
   "execution_count": null,
   "metadata": {},
   "outputs": [],
   "source": [
    "import torch\n",
    "from torch.autograd import Variable\n",
    "from torch import nn\n",
    "import numpy as np"
   ]
  },
  {
   "cell_type": "code",
   "execution_count": null,
   "metadata": {},
   "outputs": [],
   "source": [
    "from torch.utils.data import TensorDataset # 텐서데이터셋\n",
    "from torch.utils.data import DataLoader # 데이터로더"
   ]
  },
  {
   "cell_type": "markdown",
   "metadata": {},
   "source": [
    "## Data Load"
   ]
  },
  {
   "cell_type": "code",
   "execution_count": null,
   "metadata": {},
   "outputs": [],
   "source": [
    "%matplotlib inline\n",
    "\n",
    "import numpy as np\n",
    "import matplotlib.pyplot as plt\n",
    "from mpl_toolkits import mplot3d\n",
    "# ====== Generating Dataset ====== #\n",
    "num_data = 2400\n",
    "x1 = np.random.rand(num_data) * 10\n",
    "x2 = np.random.rand(num_data) * 10\n",
    "e = np.random.normal(0, 0.5, num_data)\n",
    "X = np.array([x1, x2]).T\n",
    "y = 2*np.sin(x1) + np.log(0.5*x2**2) + e\n",
    "# ====== Split Dataset into Train, Validation, Test ======#\n",
    "train_X, train_Y = X[:1600, :], y[:1600]\n",
    "val_X, val_Y = X[1600:2000, :], y[1600:2000]\n",
    "test_X, test_Y = X[2000:, :], y[2000:]\n",
    "# ====== Visualize Each Dataset ====== #\n",
    "fig = plt.figure(figsize=(12,5))\n",
    "ax1 = fig.add_subplot(1, 3, 1, projection='3d')\n",
    "ax1.scatter(train_X[:, 0], train_X[:, 1], train_Y, c=train_Y, cmap='jet')\n",
    "\n",
    "ax1.set_xlabel('x1')\n",
    "ax1.set_ylabel('x2')\n",
    "ax1.set_zlabel('y')\n",
    "ax1.set_title('Train Set Distribution')\n",
    "ax1.set_zlim(-10, 6)\n",
    "ax1.view_init(40, -60)\n",
    "ax1.invert_xaxis()\n",
    "\n",
    "ax2 = fig.add_subplot(1, 3, 2, projection='3d')\n",
    "ax2.scatter(val_X[:, 0], val_X[:, 1], val_Y, c=val_Y, cmap='jet')\n",
    "\n",
    "ax2.set_xlabel('x1')\n",
    "ax2.set_ylabel('x2')\n",
    "ax2.set_zlabel('y')\n",
    "ax2.set_title('Validation Set Distribution')\n",
    "ax2.set_zlim(-10, 6)\n",
    "ax2.view_init(40, -60)\n",
    "ax2.invert_xaxis()\n",
    "\n",
    "ax3 = fig.add_subplot(1, 3, 3, projection='3d')\n",
    "ax3.scatter(test_X[:, 0], test_X[:, 1], test_Y, c=test_Y, cmap='jet')\n",
    "\n",
    "ax3.set_xlabel('x1')\n",
    "ax3.set_ylabel('x2')\n",
    "ax3.set_zlabel('y')\n",
    "ax3.set_title('Test Set Distribution')\n",
    "ax3.set_zlim(-10, 6)\n",
    "ax3.view_init(40, -60)\n",
    "ax3.invert_xaxis()\n",
    "\n",
    "plt.show()"
   ]
  },
  {
   "cell_type": "code",
   "execution_count": null,
   "metadata": {},
   "outputs": [],
   "source": [
    "train_X.shape"
   ]
  },
  {
   "cell_type": "code",
   "execution_count": null,
   "metadata": {},
   "outputs": [],
   "source": [
    "train_x, train_y = torch.Tensor(train_X), torch.Tensor(train_Y).view(len(train_Y),-1)\n",
    "val_x, val_y = torch.Tensor(val_X), torch.Tensor(val_Y).view(len(val_Y),-1)\n",
    "test_x, test_y = torch.Tensor(test_X), torch.Tensor(test_Y).view(len(test_Y),-1)"
   ]
  },
  {
   "cell_type": "markdown",
   "metadata": {},
   "source": [
    "## 모델을 구축하고 학습해보세요.\n",
    "train data로 모델을 학습해보세요. 학습이 끝난 후에 test set으로 성능을 테스트 할 수 있습니다.\n"
    "Dataset과 DataLoader를 사용하여 데이터를 mini batch size로 나누어 학습 시킬 수 있습니다.\n",
    "> hint : .float()  \n",
    "> validation set : 학습과 병행하여 테스트를 진행합니다. overfitting을 방지할 수 있습니다.
    "\n",
   ]
  },
  {
   "cell_type": "code",
   "execution_count": null,
   "metadata": {},
   "outputs": [],
   "source": []
  }
 ],
 "metadata": {
  "kernelspec": {
   "display_name": "Python 3",
   "language": "python",
   "name": "python3"
  },
  "language_info": {
   "codemirror_mode": {
    "name": "ipython",
    "version": 3
   },
   "file_extension": ".py",
   "mimetype": "text/x-python",
   "name": "python",
   "nbconvert_exporter": "python",
   "pygments_lexer": "ipython3",
   "version": "3.7.7"
  }
 },
 "nbformat": 4,
 "nbformat_minor": 4
}
