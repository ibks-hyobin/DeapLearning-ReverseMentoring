{
 "cells": [
  {
   "cell_type": "code",
   "execution_count": 18,
   "metadata": {},
   "outputs": [],
   "source": [
    "import torch\n",
    "from torch.autograd import Variable\n",
    "from torch import nn\n",
    "import numpy as np"
   ]
  },
  {
   "cell_type": "code",
   "execution_count": 19,
   "metadata": {},
   "outputs": [
    {
     "data": {
      "text/plain": [
       "<torch._C.Generator at 0x28ba79ddd10>"
      ]
     },
     "execution_count": 19,
     "metadata": {},
     "output_type": "execute_result"
    }
   ],
   "source": [
    "import matplotlib.pyplot as plt\n",
    "%matplotlib inline\n",
    "torch.manual_seed(3)"
   ]
  },
  {
   "cell_type": "markdown",
   "metadata": {},
   "source": [
    "----------------------------------------------\n",
    "# nn Module"
   ]
  },
  {
   "cell_type": "markdown",
   "metadata": {},
   "source": [
    "\n",
    "## make data"
   ]
  },
  {
   "cell_type": "code",
   "execution_count": 105,
   "metadata": {},
   "outputs": [
    {
     "data": {
      "image/png": "[encoded data removed]",
      "text/plain": [
       "<Figure size 432x288 with 1 Axes>"
      ]
     },
     "metadata": {
      "needs_background": "light"
     },
     "output_type": "display_data"
    }
   ],
   "source": [
    "x_train = 2 * torch.rand(100,1)\n",
    "y_train = 4 * x_train + 6 + torch.randn(100,1)\n",
    "\n",
    "x, y = Variable(x_train), Variable(y_train)\n",
    "\n",
    "plt.scatter(x.data, y.data)\n",
    "plt.show()"
   ]
  },
  {
   "cell_type": "markdown",
   "metadata": {},
   "source": [
    "## Define Linear Model\n",
    "\n",
    "[Pytorch Layer의 종류](https://greeksharifa.github.io/pytorch/2018/11/10/pytorch-usage-03-How-to-Use-PyTorch/#nnmodule)"
   ]
  },
  {
   "cell_type": "code",
   "execution_count": 106,
   "metadata": {},
   "outputs": [],
   "source": [
    "model  = nn.Linear(1, 1, bias=True)\n",
    "# model.weight, model.bias"
   ]
  },
  {
   "cell_type": "markdown",
   "metadata": {},
   "source": [
    "## Define Cost Function \n",
    "Loss function은 모델이 추측한 결과(prediction)과 실제 정답(y)의 loss를 계산한다.\n",
    "> nn.L1Loss, nn.MSELoss, nn.CrossEntropyLoss"
   ]
  },
  {
   "cell_type": "code",
   "execution_count": 107,
   "metadata": {},
   "outputs": [],
   "source": [
    "cost_func = nn.MSELoss()"
   ]
  },
  {
   "cell_type": "markdown",
   "metadata": {},
   "source": [
    "## Define Optimizer \n",
    "torch.optim.Optimizer(params, defaults)\n",
    "\n",
    "> **step()** : argument로 전달받은 parameter를 업데이트   \n",
    "> **zero_grad()** : optimizer에 연결된 parameter들의 gradient를 0으로 만듦  \n",
    "> **torch.optim.lr_scheduler** : epoch에 따라 learning rate를 조절\n",
    "\n",
    "모델의 parameter별로 다른 기준(learning rate 등)을 적용시킬 수 있다. [참고](https://pytorch.org/docs/stable/optim.html#per-parameter-options)  "
   ]
  },
  {
   "cell_type": "code",
   "execution_count": 108,
   "metadata": {},
   "outputs": [],
   "source": [
    "optimizer = torch.optim.SGD(model.parameters(), lr=0.01)"
   ]
  },
  {
   "cell_type": "markdown",
   "metadata": {},
   "source": [
    "\n",
    "## Training w/ nn module"
   ]
  },
  {
   "cell_type": "code",
   "execution_count": 109,
   "metadata": {},
   "outputs": [],
   "source": [
    "plt.ion()\n",
    "\n",
    "num_epoch = 300\n",
    "for epoch in range(num_epoch):\n",
    "    prediction = model(x)\n",
    "    cost = cost_func(prediction, y)\n",
    "    \n",
    "    optimizer.zero_grad()\n",
    "    cost.backward()\n",
    "    optimizer.step()\n",
    "    \n",
    "    if step % 20 == 0:\n",
    "        print('step : %.f, cost=%.4f, w=%.4f, b=%.4f' % (step, cost.data,model.weight.data[0][0],model.bias.data))\n",
    "#         plt.cla()\n",
    "#         plt.scatter(x.data.numpy(), y.data.numpy())\n",
    "#         plt.plot(x.data.numpy(), prediction.data.numpy(), 'b--')\n",
    "#         plt.title('cost=%.4f, w=%.4f, b=%.4f' % (cost.data,model.weight.data[0][0],model.bias.data))\n",
    "#         plt.show()\n",
    "\n",
    "plt.ioff()"
   ]
  },
  {
   "cell_type": "markdown",
   "metadata": {},
   "source": [
    "## Testing model"
   ]
  },
  {
   "cell_type": "code",
   "execution_count": 110,
   "metadata": {},
   "outputs": [
    {
     "name": "stdout",
     "output_type": "stream",
     "text": [
      "input : 7.0000, output:37.1098, expectation:34.0000\n"
     ]
    }
   ],
   "source": [
    "x_test = Variable(torch.Tensor([[7]]))\n",
    "y_test = model(x_test)\n",
    "\n",
    "print('input : %.4f, output:%.4f, expectation:%.4f' % (x_test.data[0][0], y_test.data[0][0], x_test.data[0][0]*4+6))"
   ]
  },
  {
   "cell_type": "markdown",
   "metadata": {},
   "source": [
    "-----------\n",
    "###  Has \"nn.MSELoss()\"  Convex Cost Space?"
   ]
  },
  {
   "cell_type": "code",
   "execution_count": 111,
   "metadata": {},
   "outputs": [
    {
     "data": {
      "image/png": "[encoded data removed]",
      "text/plain": [
       "<Figure size 432x288 with 1 Axes>"
      ]
     },
     "metadata": {
      "needs_background": "light"
     },
     "output_type": "display_data"
    }
   ],
   "source": [
    "W_val, cost_val = [], []\n",
    "\n",
    "for i in range(-220, 300):\n",
    "    W = i * 0.1\n",
    "    model.weight.data.fill_(W)\n",
    "    cost =  cost_func(model(x),y)\n",
    "#     print(model.weight.data)\n",
    "    \n",
    "    W_val.append(W)\n",
    "    cost_val.append(cost.data)\n",
    "\n",
    "plt.plot(W_val, cost_val, 'ro')\n",
    "plt.show()"
   ]
  },
  {
   "cell_type": "markdown",
   "metadata": {},
   "source": [
    "--------------------------------------------------------------\n",
    "# Multivariate Linear model (다중 선형 회귀)"
   ]
  },
  {
   "cell_type": "code",
   "execution_count": 56,
   "metadata": {},
   "outputs": [],
   "source": [
    "import numpy as np"
   ]
  },
  {
   "attachments": {
    "image.png": {
     "image/png": "[encoded data removed]"
    }
   },
   "cell_type": "markdown",
   "metadata": {},
   "source": [
    "## make Data\n",
    "단순 선형 회귀와 다른 점은, 독립 변수 x의 개수가 1개가 아닌 3개이다.  \n",
    "3개의 퀴즈 점수로부터 최종 점수를 예측하는 모델  \n",
    "![image.png](attachment:image.png)\n"
   ]
  },
  {
   "attachments": {
    "image.png": {
     "image/png": "[encoded data removed]"
    }
   },
   "cell_type": "markdown",
   "metadata": {},
   "source": [
    "<img src = \"attachment:image.png\" width=\"500\">"
   ]
  },
  {
   "cell_type": "code",
   "execution_count": 20,
   "metadata": {},
   "outputs": [],
   "source": [
    "xy = np.loadtxt('data-01-test-score.csv', delimiter=',', dtype=np.float32)\n",
    "x_data = xy[1:, :-1]\n",
    "y_data = xy[1:, [-1]]\n",
    "\n",
    "# print('shape: ', x_data.shape, '\\nlength:', len(x_data), '\\n', x_data )\n",
    "# print('shape: ', y_data.shape, '\\nlength:', len(y_data), '\\n', y_data )"
   ]
  },
  {
   "cell_type": "code",
   "execution_count": 21,
   "metadata": {
    "scrolled": true
   },
   "outputs": [],
   "source": [
    "x, y = Variable(torch.from_numpy(x_data)), Variable(torch.from_numpy(y_data))"
   ]
  },
  {
   "cell_type": "code",
   "execution_count": 25,
   "metadata": {},
   "outputs": [
    {
     "data": {
      "text/plain": [
       "torch.Size([24, 3])"
      ]
     },
     "execution_count": 25,
     "metadata": {},
     "output_type": "execute_result"
    }
   ],
   "source": [
    "x.shape"
   ]
  },
  {
   "cell_type": "markdown",
   "metadata": {},
   "source": [
    "\n",
    "## make Model"
   ]
  },
  {
   "cell_type": "code",
   "execution_count": 59,
   "metadata": {},
   "outputs": [],
   "source": [
    "mv_model = nn.Linear(3, 1, bias=True)\n",
    "# print('weigh : ', mv_model.weight)\n",
    "# print('bias   : ', mv_model.bias)"
   ]
  },
  {
   "cell_type": "code",
   "execution_count": 60,
   "metadata": {},
   "outputs": [],
   "source": [
    "cost_func = nn.MSELoss()\n",
    "\n",
    "optimizer = torch.optim.SGD(mv_model.parameters(), lr=1e-5)"
   ]
  },
  {
   "cell_type": "markdown",
   "metadata": {},
   "source": [
    "\n",
    "## Training Model"
   ]
  },
  {
   "cell_type": "code",
   "execution_count": 61,
   "metadata": {
    "collapsed": true
   },
   "outputs": [
    {
     "name": "stdout",
     "output_type": "stream",
     "text": [
      "0 Cost:  3246.455\n",
      "50 Cost:  13.221665\n",
      "100 Cost:  12.968132\n",
      "150 Cost:  12.724354\n",
      "200 Cost:  12.489972\n",
      "250 Cost:  12.264596\n",
      "300 Cost:  12.047852\n",
      "350 Cost:  11.839402\n",
      "400 Cost:  11.638925\n",
      "450 Cost:  11.446059\n",
      "500 Cost:  11.260559\n",
      "550 Cost:  11.0820875\n",
      "600 Cost:  10.910381\n",
      "650 Cost:  10.745174\n",
      "700 Cost:  10.586192\n",
      "750 Cost:  10.433207\n",
      "800 Cost:  10.285945\n",
      "850 Cost:  10.14424\n",
      "900 Cost:  10.00782\n",
      "950 Cost:  9.876494\n",
      "1000 Cost:  9.750077\n",
      "1050 Cost:  9.628345\n",
      "1100 Cost:  9.511134\n",
      "1150 Cost:  9.398285\n",
      "1200 Cost:  9.289587\n",
      "1250 Cost:  9.184896\n",
      "1300 Cost:  9.084046\n",
      "1350 Cost:  8.986924\n",
      "1400 Cost:  8.893346\n",
      "1450 Cost:  8.803184\n",
      "1500 Cost:  8.716317\n",
      "1550 Cost:  8.632593\n",
      "1600 Cost:  8.551915\n",
      "1650 Cost:  8.474165\n",
      "1700 Cost:  8.399209\n",
      "1750 Cost:  8.326967\n",
      "1800 Cost:  8.2573\n",
      "1850 Cost:  8.190161\n",
      "1900 Cost:  8.125392\n",
      "1950 Cost:  8.062954\n",
      "2000 Cost:  8.002741\n",
      "2050 Cost:  7.9446445\n",
      "2100 Cost:  7.888611\n",
      "2150 Cost:  7.834575\n",
      "2200 Cost:  7.782427\n",
      "2250 Cost:  7.7321134\n",
      "2300 Cost:  7.683567\n",
      "2350 Cost:  7.6367316\n",
      "2400 Cost:  7.591493\n",
      "2450 Cost:  7.547851\n",
      "2500 Cost:  7.5057254\n",
      "2550 Cost:  7.4650555\n",
      "2600 Cost:  7.4257913\n",
      "2650 Cost:  7.3878884\n",
      "2700 Cost:  7.351263\n",
      "2750 Cost:  7.315906\n",
      "2800 Cost:  7.2817464\n",
      "2850 Cost:  7.248771\n",
      "2900 Cost:  7.216909\n",
      "2950 Cost:  7.186119\n",
      "3000 Cost:  7.1563697\n",
      "3050 Cost:  7.127643\n",
      "3100 Cost:  7.099859\n",
      "3150 Cost:  7.0730205\n",
      "3200 Cost:  7.0470657\n",
      "3250 Cost:  7.0219817\n",
      "3300 Cost:  6.997728\n",
      "3350 Cost:  6.9743056\n",
      "3400 Cost:  6.9516377\n",
      "3450 Cost:  6.9297214\n",
      "3500 Cost:  6.908522\n",
      "3550 Cost:  6.8880334\n",
      "3600 Cost:  6.868199\n",
      "3650 Cost:  6.8490067\n",
      "3700 Cost:  6.830464\n",
      "3750 Cost:  6.8124943\n",
      "3800 Cost:  6.7951217\n",
      "3850 Cost:  6.7783127\n",
      "3900 Cost:  6.762053\n",
      "3950 Cost:  6.7462907\n",
      "4000 Cost:  6.7310634\n",
      "4050 Cost:  6.716313\n",
      "4100 Cost:  6.7020373\n",
      "4150 Cost:  6.6882005\n",
      "4200 Cost:  6.674806\n",
      "4250 Cost:  6.6618295\n",
      "4300 Cost:  6.649277\n",
      "4350 Cost:  6.637106\n",
      "4400 Cost:  6.6253276\n",
      "4450 Cost:  6.6139226\n",
      "4500 Cost:  6.602858\n",
      "4550 Cost:  6.5921555\n",
      "4600 Cost:  6.581762\n",
      "4650 Cost:  6.5716977\n",
      "4700 Cost:  6.561956\n",
      "4750 Cost:  6.552521\n",
      "4800 Cost:  6.5433517\n",
      "4850 Cost:  6.5344863\n",
      "4900 Cost:  6.5258756\n",
      "4950 Cost:  6.5175214\n",
      "5000 Cost:  6.509453\n",
      "5050 Cost:  6.501613\n",
      "5100 Cost:  6.4940057\n",
      "5150 Cost:  6.4866223\n",
      "5200 Cost:  6.479467\n",
      "5250 Cost:  6.4725184\n",
      "5300 Cost:  6.4658017\n",
      "5350 Cost:  6.459273\n",
      "5400 Cost:  6.4529386\n",
      "5450 Cost:  6.4467883\n",
      "5500 Cost:  6.4408402\n",
      "5550 Cost:  6.4350486\n",
      "5600 Cost:  6.4294353\n",
      "5650 Cost:  6.4239755\n",
      "5700 Cost:  6.4186783\n",
      "5750 Cost:  6.4135528\n",
      "5800 Cost:  6.4085784\n",
      "5850 Cost:  6.4037433\n",
      "5900 Cost:  6.399036\n",
      "5950 Cost:  6.394483\n",
      "6000 Cost:  6.3900566\n",
      "6050 Cost:  6.3857436\n",
      "6100 Cost:  6.3815885\n",
      "6150 Cost:  6.377514\n",
      "6200 Cost:  6.3735957\n",
      "6250 Cost:  6.3697586\n",
      "6300 Cost:  6.3660474\n",
      "6350 Cost:  6.3624434\n",
      "6400 Cost:  6.3589206\n",
      "6450 Cost:  6.355516\n",
      "6500 Cost:  6.352223\n",
      "6550 Cost:  6.349005\n",
      "6600 Cost:  6.3458786\n",
      "6650 Cost:  6.342839\n",
      "6700 Cost:  6.3398895\n",
      "6750 Cost:  6.3370285\n",
      "6800 Cost:  6.3342414\n",
      "6850 Cost:  6.331534\n",
      "6900 Cost:  6.32889\n",
      "6950 Cost:  6.3263416\n",
      "7000 Cost:  6.3238583\n",
      "7050 Cost:  6.321432\n",
      "7100 Cost:  6.319078\n",
      "7150 Cost:  6.3167953\n",
      "7200 Cost:  6.3145595\n",
      "7250 Cost:  6.3124013\n",
      "7300 Cost:  6.310293\n",
      "7350 Cost:  6.308262\n",
      "7400 Cost:  6.306271\n",
      "7450 Cost:  6.304329\n",
      "7500 Cost:  6.3024635\n",
      "7550 Cost:  6.3006377\n",
      "7600 Cost:  6.2988453\n",
      "7650 Cost:  6.2971177\n",
      "7700 Cost:  6.2954354\n",
      "7750 Cost:  6.293791\n",
      "7800 Cost:  6.2921963\n",
      "7850 Cost:  6.290655\n",
      "7900 Cost:  6.289149\n",
      "7950 Cost:  6.287676\n",
      "8000 Cost:  6.286244\n",
      "8050 Cost:  6.2848525\n",
      "8100 Cost:  6.283506\n",
      "8150 Cost:  6.2821975\n",
      "8200 Cost:  6.280901\n",
      "8250 Cost:  6.279663\n",
      "8300 Cost:  6.278445\n",
      "8350 Cost:  6.2772675\n",
      "8400 Cost:  6.276113\n",
      "8450 Cost:  6.274992\n",
      "8500 Cost:  6.273914\n",
      "8550 Cost:  6.2728577\n",
      "8600 Cost:  6.271816\n",
      "8650 Cost:  6.2708163\n",
      "8700 Cost:  6.269829\n",
      "8750 Cost:  6.2688794\n",
      "8800 Cost:  6.26795\n",
      "8850 Cost:  6.26704\n",
      "8900 Cost:  6.2661643\n",
      "8950 Cost:  6.265304\n",
      "9000 Cost:  6.264456\n",
      "9050 Cost:  6.2636714\n",
      "9100 Cost:  6.262876\n",
      "9150 Cost:  6.262102\n",
      "9200 Cost:  6.2613416\n",
      "9250 Cost:  6.260601\n",
      "9300 Cost:  6.2598934\n",
      "9350 Cost:  6.2592125\n",
      "9400 Cost:  6.2585335\n",
      "9450 Cost:  6.257879\n",
      "9500 Cost:  6.257233\n",
      "9550 Cost:  6.256602\n",
      "9600 Cost:  6.255995\n",
      "9650 Cost:  6.255409\n",
      "9700 Cost:  6.2548347\n",
      "9750 Cost:  6.2542634\n",
      "9800 Cost:  6.253716\n",
      "9850 Cost:  6.2531815\n",
      "9900 Cost:  6.2526608\n",
      "9950 Cost:  6.252151\n"
     ]
    }
   ],
   "source": [
    "num_epoch = 10000\n",
    "for epoch in range(num_epoch):\n",
    "    prediction = mv_model(x)\n",
    "    cost = cost_func(prediction, y)\n",
    "    \n",
    "    optimizer.zero_grad()\n",
    "    cost.backward()\n",
    "    optimizer.step()\n",
    "    \n",
    "    if epoch % 50 == 0:\n",
    "        print(epoch, \"Cost: \", cost.data.numpy())"
   ]
  },
  {
   "cell_type": "markdown",
   "metadata": {},
   "source": [
    "\n",
    "## test"
   ]
  },
  {
   "cell_type": "code",
   "execution_count": 62,
   "metadata": {},
   "outputs": [
    {
     "name": "stdout",
     "output_type": "stream",
     "text": [
      "Model score :  [[152.91052]]\n",
      "Real score : 73,80,75,152\n"
     ]
    }
   ],
   "source": [
    "print(\"Model score : \",mv_model(Variable(torch.Tensor([[73,80,75]]))).data.numpy())\n",
    "print(\"Real score : 73,80,75,152\")"
   ]
  },
  {
   "cell_type": "markdown",
   "metadata": {},
   "source": [
    "----------------------------\n",
    "# DataLoader\n",
    "파이토치에서는 데이터를 좀 더 쉽게 다룰 수 있도록 유용한 도구로서 데이터셋(Dataset)과 데이터로더(DataLoader)를 제공합니다. 이를 사용하면 미니 배치 학습, 데이터 셔플(shuffle), 병렬 처리까지 간단히 수행할 수 있습니다."
   ]
  },
  {
   "cell_type": "code",
   "execution_count": 11,
   "metadata": {},
   "outputs": [],
   "source": [
    "from torch.utils.data import TensorDataset # 텐서데이터셋\n",
    "from torch.utils.data import DataLoader # 데이터로더"
   ]
  },
  {
   "cell_type": "code",
   "execution_count": 12,
   "metadata": {},
   "outputs": [],
   "source": [
    "x_train  =  torch.FloatTensor([[73,  80,  75], \n",
    "                               [93,  88,  93], \n",
    "                               [89,  91,  90], \n",
    "                               [96,  98,  100],   \n",
    "                               [73,  66,  70]])  \n",
    "y_train  =  torch.FloatTensor([[152],  [185],  [180],  [196],  [142]])"
   ]
  },
  {
   "cell_type": "markdown",
   "metadata": {},
   "source": [
    "텐서를 입력받아 Dataset의 형태로 변환해주는 TensorDataset을 사용해보겠습니다  \n",
    "[torch.utils.data.Dataset](https://pytorch.org/docs/master/data.html#torch.utils.data.Dataset)"
   ]
  },
  {
   "cell_type": "code",
   "execution_count": 13,
   "metadata": {},
   "outputs": [],
   "source": [
    "dataset = TensorDataset(x_train, y_train)\n",
    "# dataset.__len__()"
   ]
  },
  {
   "cell_type": "markdown",
   "metadata": {},
   "source": [
    "shuffle=True를 선택하면 Epoch마다 데이터셋을 섞어서 데이터가 학습되는 순서를 바꿉니다."
   ]
  },
  {
   "cell_type": "code",
   "execution_count": 14,
   "metadata": {},
   "outputs": [],
   "source": [
    "dataloader = DataLoader(dataset, batch_size=2, shuffle=True)"
   ]
  },
  {
   "cell_type": "markdown",
   "metadata": {},
   "source": [
    "### Model training"
   ]
  },
  {
   "cell_type": "code",
   "execution_count": 15,
   "metadata": {},
   "outputs": [],
   "source": [
    "model = nn.Linear(3,1)\n",
    "cost_func = nn.MSELoss()\n",
    "optimizer = torch.optim.SGD(model.parameters(), lr=1e-5) "
   ]
  },
  {
   "cell_type": "code",
   "execution_count": 17,
   "metadata": {
    "scrolled": true
   },
   "outputs": [
    {
     "name": "stdout",
     "output_type": "stream",
     "text": [
      "Epoch    0/20 Batch 1/3 Cost: 25416.882812\n",
      "Epoch    0/20 Batch 2/3 Cost: 8752.909180\n",
      "Epoch    0/20 Batch 3/3 Cost: 4128.232910\n",
      "Epoch    1/20 Batch 1/3 Cost: 631.440613\n",
      "Epoch    1/20 Batch 2/3 Cost: 201.402130\n",
      "Epoch    1/20 Batch 3/3 Cost: 66.496292\n",
      "Epoch    2/20 Batch 1/3 Cost: 12.799618\n",
      "Epoch    2/20 Batch 2/3 Cost: 20.666348\n",
      "Epoch    2/20 Batch 3/3 Cost: 0.009223\n",
      "Epoch    3/20 Batch 1/3 Cost: 5.413140\n",
      "Epoch    3/20 Batch 2/3 Cost: 2.312543\n",
      "Epoch    3/20 Batch 3/3 Cost: 0.536844\n",
      "Epoch    4/20 Batch 1/3 Cost: 2.488918\n",
      "Epoch    4/20 Batch 2/3 Cost: 4.225341\n",
      "Epoch    4/20 Batch 3/3 Cost: 0.761651\n",
      "Epoch    5/20 Batch 1/3 Cost: 5.480851\n",
      "Epoch    5/20 Batch 2/3 Cost: 3.619539\n",
      "Epoch    5/20 Batch 3/3 Cost: 0.492862\n",
      "Epoch    6/20 Batch 1/3 Cost: 4.661874\n",
      "Epoch    6/20 Batch 2/3 Cost: 2.274723\n",
      "Epoch    6/20 Batch 3/3 Cost: 0.526076\n",
      "Epoch    7/20 Batch 1/3 Cost: 4.348269\n",
      "Epoch    7/20 Batch 2/3 Cost: 1.350592\n",
      "Epoch    7/20 Batch 3/3 Cost: 3.233807\n",
      "Epoch    8/20 Batch 1/3 Cost: 5.049908\n",
      "Epoch    8/20 Batch 2/3 Cost: 1.211924\n",
      "Epoch    8/20 Batch 3/3 Cost: 4.762885\n",
      "Epoch    9/20 Batch 1/3 Cost: 2.503585\n",
      "Epoch    9/20 Batch 2/3 Cost: 3.557190\n",
      "Epoch    9/20 Batch 3/3 Cost: 1.719453\n",
      "Epoch   10/20 Batch 1/3 Cost: 4.097709\n",
      "Epoch   10/20 Batch 2/3 Cost: 1.843709\n",
      "Epoch   10/20 Batch 3/3 Cost: 3.877359\n",
      "Epoch   11/20 Batch 1/3 Cost: 3.449925\n",
      "Epoch   11/20 Batch 2/3 Cost: 1.186142\n",
      "Epoch   11/20 Batch 3/3 Cost: 4.498068\n",
      "Epoch   12/20 Batch 1/3 Cost: 2.185757\n",
      "Epoch   12/20 Batch 2/3 Cost: 4.670209\n",
      "Epoch   12/20 Batch 3/3 Cost: 0.592601\n",
      "Epoch   13/20 Batch 1/3 Cost: 2.319239\n",
      "Epoch   13/20 Batch 2/3 Cost: 3.991148\n",
      "Epoch   13/20 Batch 3/3 Cost: 1.187926\n",
      "Epoch   14/20 Batch 1/3 Cost: 1.743952\n",
      "Epoch   14/20 Batch 2/3 Cost: 3.779976\n",
      "Epoch   14/20 Batch 3/3 Cost: 3.419587\n",
      "Epoch   15/20 Batch 1/3 Cost: 0.035291\n",
      "Epoch   15/20 Batch 2/3 Cost: 2.788156\n",
      "Epoch   15/20 Batch 3/3 Cost: 8.530667\n",
      "Epoch   16/20 Batch 1/3 Cost: 3.547603\n",
      "Epoch   16/20 Batch 2/3 Cost: 1.619347\n",
      "Epoch   16/20 Batch 3/3 Cost: 6.588947\n",
      "Epoch   17/20 Batch 1/3 Cost: 1.747113\n",
      "Epoch   17/20 Batch 2/3 Cost: 7.669071\n",
      "Epoch   17/20 Batch 3/3 Cost: 0.669013\n",
      "Epoch   18/20 Batch 1/3 Cost: 4.144515\n",
      "Epoch   18/20 Batch 2/3 Cost: 1.280622\n",
      "Epoch   18/20 Batch 3/3 Cost: 3.342153\n",
      "Epoch   19/20 Batch 1/3 Cost: 4.955361\n",
      "Epoch   19/20 Batch 2/3 Cost: 1.226789\n",
      "Epoch   19/20 Batch 3/3 Cost: 4.674651\n"
     ]
    }
   ],
   "source": [
    "num_epochs = 20\n",
    "for epoch in range(num_epochs):\n",
    "    for batch_idx, samples in enumerate(dataloader):\n",
    "\n",
    "        x_train, y_train = samples\n",
    "        \n",
    "        prediction = model(x_train)\n",
    "        cost = cost_func(prediction, y_train)\n",
    "\n",
    "        optimizer.zero_grad()\n",
    "        cost.backward()\n",
    "        optimizer.step()\n",
    "\n",
    "        print('Epoch {:4d}/{} Batch {}/{} Cost: {:.6f}'.format(\n",
    "            epoch, num_epochs, batch_idx+1, len(dataloader),\n",
    "            cost.item()\n",
    "            ))"
   ]
  },
  {
   "cell_type": "markdown",
   "metadata": {},
   "source": [
    "----------------------------------------\n",
    "# 모델 save & load\n",
    "PyTorch에서 torch.nn.Module 모델의 학습 가능한 매개변수(예. 가중치와 편향)들은 모델의 매개변수에 포함되어 있습니다(model.parameters()로 접근합니다). state_dict 는 각 계층을 매개변수 텐서로 매핑되는 Python 사전(dict) 객체입니다. 이는 쉽게 저장하거나 갱신하거나 바꾸거나 되살릴 수 있으며, PyTorch 모델과 Optimizer에 모듈성을 제공합니다."
   ]
  },
  {
   "cell_type": "code",
   "execution_count": null,
   "metadata": {},
   "outputs": [],
   "source": [
    "mv_model.parameters()"
   ]
  },
  {
   "cell_type": "code",
   "execution_count": null,
   "metadata": {},
   "outputs": [],
   "source": [
    "mv_model.state_dict()"
   ]
  },
  {
   "cell_type": "markdown",
   "metadata": {},
   "source": [
    "### state_dict save & load\n",
    "추론을 위해 모델을 저장할 때는 학습된 모델의 학습된 매개변수만 저장하면 됩니다. torch.save() 를 사용하여 모델의 state_dict 를 저장합니다.  "
   ]
  },
  {
   "cell_type": "code",
   "execution_count": null,
   "metadata": {},
   "outputs": [],
   "source": [
    "torch.save(model.state_dict(), PATH)"
   ]
  },
  {
   "cell_type": "code",
   "execution_count": null,
   "metadata": {},
   "outputs": [],
   "source": [
    "model = TheModelClass(*args, **args)\n",
    "model.load_state_dict(torch.load(PATH))\n",
    "model.eval()"
   ]
  },
  {
   "cell_type": "markdown",
   "metadata": {},
   "source": [
    "### 추론 / 학습 재개를 위해 일반 체크포인트(checkpoint) 저장하기 & 불러오기"
   ]
  },
  {
   "cell_type": "code",
   "execution_count": null,
   "metadata": {},
   "outputs": [],
   "source": [
    "torch.save({\n",
    "            'epoch': epoch,\n",
    "            'model_state_dict': model.state_dict(),\n",
    "            'optimizer_state_dict': optimizer.state_dict(),\n",
    "            'loss': loss,\n",
    "            ...\n",
    "            }, PATH)"
   ]
  },
  {
   "cell_type": "code",
   "execution_count": null,
   "metadata": {},
   "outputs": [],
   "source": [
    "model = TheModelClass(*args, **kwargs)\n",
    "optimizer = TheOptimizerClass(*args, **kwargs)\n",
    "\n",
    "checkpoint = torch.load(PATH)\n",
    "model.load_state_dict(checkpoint['model_state_dict'])\n",
    "optimizer.load_state_dict(checkpoint['optimizer_state_dict'])\n",
    "epoch = checkpoint['epoch']\n",
    "loss = checkpoint['loss']\n",
    "\n",
    "model.eval()\n",
    "# - or -\n",
    "model.train()"
   ]
  }
 ],
 "metadata": {
  "kernelspec": {
   "display_name": "Python 3",
   "language": "python",
   "name": "python3"
  },
  "language_info": {
   "codemirror_mode": {
    "name": "ipython",
    "version": 3
   },
   "file_extension": ".py",
   "mimetype": "text/x-python",
   "name": "python",
   "nbconvert_exporter": "python",
   "pygments_lexer": "ipython3",
   "version": "3.7.7"
  }
 },
 "nbformat": 4,
 "nbformat_minor": 2
}
